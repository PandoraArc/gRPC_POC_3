{
 "cells": [
  {
   "cell_type": "code",
   "execution_count": 24,
   "metadata": {},
   "outputs": [],
   "source": [
    "## read json\n",
    "import json\n",
    "import time\n",
    "jsonIn = json.load(open(\"test.json\", \"r\"))"
   ]
  },
  {
   "cell_type": "code",
   "execution_count": 25,
   "metadata": {},
   "outputs": [],
   "source": [
    "# define gRPC protocol\n",
    "import grpc\n",
    "import gRPC.coffee_pb2 as coffee_pb2\n",
    "import gRPC.coffee_pb2_grpc as coffee_pb2_grpc\n",
    "\n",
    "#socket = ('unix:///home/parinthon/Documents/github/gRPC_POC_3/server/proto/grpc.sock')\n",
    "socket = 'localhost:50051'\n",
    "\n",
    "def run(jsonIn):\n",
    "    with grpc.insecure_channel(socket) as channel:\n",
    "        request = json.dumps(jsonIn)\n",
    "        stub = coffee_pb2_grpc.CoffeeStub(channel)\n",
    "        request = coffee_pb2.CoffeeRequest(requestJsonStr=request)\n",
    "        print(\"calling server\")\n",
    "        response = stub.OrderCoffee(request)\n",
    "        response = json.loads(response.responseJsonStr)\n",
    "        return response"
   ]
  },
  {
   "cell_type": "code",
   "execution_count": 26,
   "metadata": {},
   "outputs": [],
   "source": [
    "# define rest protocol\n",
    "import requests\n",
    "def request(jsonIn):\n",
    "    url = \"http://127.0.0.1:80\"\n",
    "    headers = {'content-type': 'application/json'}\n",
    "    #request = json.dumps(jsonIn)\n",
    "    #response = requests.post(url=url, data=request, headers=headers)\n",
    "    #response = json.loads(response.text)\n",
    "    response = requests.get(url=url)\n",
    "    return response.text"
   ]
  },
  {
   "cell_type": "code",
   "execution_count": 27,
   "metadata": {},
   "outputs": [
    {
     "name": "stdout",
     "output_type": "stream",
     "text": [
      "-------------- start rest test -------------\n",
      "response:  Hello! wrold\n",
      "USED_TIME : 0.0047\n",
      "-------------- end rest test ---------------\n"
     ]
    }
   ],
   "source": [
    "#rest_test\n",
    "print(\"-------------- start rest test -------------\")\n",
    "start = time.time()\n",
    "print(\"response: \", request(jsonIn))\n",
    "end = time.time()\n",
    "print(f\"USED_TIME : {end-start:.4f}\")\n",
    "print(\"-------------- end rest test ---------------\")"
   ]
  },
  {
   "cell_type": "code",
   "execution_count": 29,
   "metadata": {},
   "outputs": [
    {
     "name": "stdout",
     "output_type": "stream",
     "text": [
      "-------------- start grpc test -------------\n",
      "calling server\n"
     ]
    },
    {
     "name": "stderr",
     "output_type": "stream",
     "text": [
      "E0206 16:40:10.971084539  585511 hpack_parser.cc:1218]                 Error parsing metadata: error=invalid value key=content-type value=text/html; charset=utf-8\n"
     ]
    },
    {
     "ename": "_InactiveRpcError",
     "evalue": "<_InactiveRpcError of RPC that terminated with:\n\tstatus = StatusCode.UNAVAILABLE\n\tdetails = \"Received http2 header with status: 502\"\n\tdebug_error_string = \"UNKNOWN:Error received from peer ipv4:127.0.0.1:50051 {grpc_message:\"Received http2 header with status: 502\", grpc_status:14, created_time:\"2023-02-06T16:40:10.971176744+07:00\"}\"\n>",
     "output_type": "error",
     "traceback": [
      "\u001b[0;31m---------------------------------------------------------------------------\u001b[0m",
      "\u001b[0;31m_InactiveRpcError\u001b[0m                         Traceback (most recent call last)",
      "Cell \u001b[0;32mIn[29], line 4\u001b[0m\n\u001b[1;32m      2\u001b[0m \u001b[39mprint\u001b[39m(\u001b[39m\"\u001b[39m\u001b[39m-------------- start grpc test -------------\u001b[39m\u001b[39m\"\u001b[39m)\n\u001b[1;32m      3\u001b[0m start \u001b[39m=\u001b[39m time\u001b[39m.\u001b[39mtime()\n\u001b[0;32m----> 4\u001b[0m \u001b[39mprint\u001b[39m(\u001b[39m\"\u001b[39m\u001b[39mresponse: \u001b[39m\u001b[39m\"\u001b[39m, run(jsonIn))\n\u001b[1;32m      5\u001b[0m end \u001b[39m=\u001b[39m time\u001b[39m.\u001b[39mtime()\n\u001b[1;32m      6\u001b[0m \u001b[39mprint\u001b[39m(\u001b[39mf\u001b[39m\u001b[39m\"\u001b[39m\u001b[39mUSED_TIME : \u001b[39m\u001b[39m{\u001b[39;00mend\u001b[39m-\u001b[39mstart\u001b[39m:\u001b[39;00m\u001b[39m.4f\u001b[39m\u001b[39m}\u001b[39;00m\u001b[39m\"\u001b[39m)\n",
      "Cell \u001b[0;32mIn[25], line 15\u001b[0m, in \u001b[0;36mrun\u001b[0;34m(jsonIn)\u001b[0m\n\u001b[1;32m     13\u001b[0m request \u001b[39m=\u001b[39m coffee_pb2\u001b[39m.\u001b[39mCoffeeRequest(requestJsonStr\u001b[39m=\u001b[39mrequest)\n\u001b[1;32m     14\u001b[0m \u001b[39mprint\u001b[39m(\u001b[39m\"\u001b[39m\u001b[39mcalling server\u001b[39m\u001b[39m\"\u001b[39m)\n\u001b[0;32m---> 15\u001b[0m response \u001b[39m=\u001b[39m stub\u001b[39m.\u001b[39;49mOrderCoffee(request)\n\u001b[1;32m     16\u001b[0m response \u001b[39m=\u001b[39m json\u001b[39m.\u001b[39mloads(response\u001b[39m.\u001b[39mresponseJsonStr)\n\u001b[1;32m     17\u001b[0m \u001b[39mreturn\u001b[39;00m response\n",
      "File \u001b[0;32m~/miniconda3/envs/grpc/lib/python3.8/site-packages/grpc/_channel.py:946\u001b[0m, in \u001b[0;36m_UnaryUnaryMultiCallable.__call__\u001b[0;34m(self, request, timeout, metadata, credentials, wait_for_ready, compression)\u001b[0m\n\u001b[1;32m    937\u001b[0m \u001b[39mdef\u001b[39;00m \u001b[39m__call__\u001b[39m(\u001b[39mself\u001b[39m,\n\u001b[1;32m    938\u001b[0m              request,\n\u001b[1;32m    939\u001b[0m              timeout\u001b[39m=\u001b[39m\u001b[39mNone\u001b[39;00m,\n\u001b[0;32m   (...)\u001b[0m\n\u001b[1;32m    942\u001b[0m              wait_for_ready\u001b[39m=\u001b[39m\u001b[39mNone\u001b[39;00m,\n\u001b[1;32m    943\u001b[0m              compression\u001b[39m=\u001b[39m\u001b[39mNone\u001b[39;00m):\n\u001b[1;32m    944\u001b[0m     state, call, \u001b[39m=\u001b[39m \u001b[39mself\u001b[39m\u001b[39m.\u001b[39m_blocking(request, timeout, metadata, credentials,\n\u001b[1;32m    945\u001b[0m                                   wait_for_ready, compression)\n\u001b[0;32m--> 946\u001b[0m     \u001b[39mreturn\u001b[39;00m _end_unary_response_blocking(state, call, \u001b[39mFalse\u001b[39;49;00m, \u001b[39mNone\u001b[39;49;00m)\n",
      "File \u001b[0;32m~/miniconda3/envs/grpc/lib/python3.8/site-packages/grpc/_channel.py:849\u001b[0m, in \u001b[0;36m_end_unary_response_blocking\u001b[0;34m(state, call, with_call, deadline)\u001b[0m\n\u001b[1;32m    847\u001b[0m         \u001b[39mreturn\u001b[39;00m state\u001b[39m.\u001b[39mresponse\n\u001b[1;32m    848\u001b[0m \u001b[39melse\u001b[39;00m:\n\u001b[0;32m--> 849\u001b[0m     \u001b[39mraise\u001b[39;00m _InactiveRpcError(state)\n",
      "\u001b[0;31m_InactiveRpcError\u001b[0m: <_InactiveRpcError of RPC that terminated with:\n\tstatus = StatusCode.UNAVAILABLE\n\tdetails = \"Received http2 header with status: 502\"\n\tdebug_error_string = \"UNKNOWN:Error received from peer ipv4:127.0.0.1:50051 {grpc_message:\"Received http2 header with status: 502\", grpc_status:14, created_time:\"2023-02-06T16:40:10.971176744+07:00\"}\"\n>"
     ]
    }
   ],
   "source": [
    "#grpc_test\n",
    "print(\"-------------- start grpc test -------------\")\n",
    "start = time.time()\n",
    "print(\"response: \", run(jsonIn))\n",
    "end = time.time()\n",
    "print(f\"USED_TIME : {end-start:.4f}\")\n",
    "print(\"-------------- end grpc test ---------------\")"
   ]
  },
  {
   "cell_type": "code",
   "execution_count": null,
   "metadata": {},
   "outputs": [],
   "source": []
  }
 ],
 "metadata": {
  "kernelspec": {
   "display_name": "grpc",
   "language": "python",
   "name": "python3"
  },
  "language_info": {
   "codemirror_mode": {
    "name": "ipython",
    "version": 3
   },
   "file_extension": ".py",
   "mimetype": "text/x-python",
   "name": "python",
   "nbconvert_exporter": "python",
   "pygments_lexer": "ipython3",
   "version": "3.8.16"
  },
  "orig_nbformat": 4,
  "vscode": {
   "interpreter": {
    "hash": "5de081e4f16db5ba5b067d997d50bd34412c72cc6a2ea45f25c69fabf1e08136"
   }
  }
 },
 "nbformat": 4,
 "nbformat_minor": 2
}
